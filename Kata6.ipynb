{
 "cells": [
  {
   "cell_type": "markdown",
   "metadata": {},
   "source": [
    "## Ejercicio 1\n",
    "crear y usar listas"
   ]
  },
  {
   "cell_type": "code",
   "execution_count": 3,
   "metadata": {},
   "outputs": [
    {
     "name": "stdout",
     "output_type": "stream",
     "text": [
      "['mercurio', 'venus', 'tierra', 'marte', 'jupiter', 'saturno', 'urano', 'neptuno']\n",
      "Existen  8 planetas en el sistema solar\n"
     ]
    }
   ],
   "source": [
    "planetas=[\"mercurio\",\"venus\",\"tierra\",\"marte\",\"jupiter\",\"saturno\", \"urano\",\"neptuno\"]\n",
    "print(planetas)\n",
    "num_planetas=len(planetas)\n",
    "print(\"Existen \", num_planetas, \"planetas en el sistema solar\")"
   ]
  },
  {
   "cell_type": "code",
   "execution_count": 5,
   "metadata": {},
   "outputs": [
    {
     "name": "stdout",
     "output_type": "stream",
     "text": [
      "['mercurio', 'venus', 'tierra', 'marte', 'jupiter', 'saturno', 'urano', 'neptuno', 'pluton']\n",
      "aunque aun hay gente que piensa que existen  9 planetas en el sistema solar, considerando a pluton\n"
     ]
    }
   ],
   "source": [
    "planetas=[\"mercurio\",\"venus\",\"tierra\",\"marte\",\"jupiter\",\"saturno\", \"urano\",\"neptuno\"]\n",
    "planetas.append(\"pluton\")\n",
    "print(planetas)\n",
    "num_planetas_conpluton=len(planetas)\n",
    "print(\"aunque aun hay gente que piensa que existen \", num_planetas_conpluton, \"planetas en el sistema solar, considerando a pluton\")"
   ]
  },
  {
   "cell_type": "markdown",
   "metadata": {},
   "source": [
    "## Ejercicio dosss"
   ]
  },
  {
   "cell_type": "code",
   "execution_count": 19,
   "metadata": {},
   "outputs": [
    {
     "name": "stdout",
     "output_type": "stream",
     "text": [
      "El planeta Urano es el planeta numero  7 con respecto a la distancia al sol\n",
      "Los planetas mas cercanos al sol antes que Urano son\n",
      "['Mercurio', 'Venus', 'Tierra', 'Marte', 'Jupiter', 'Saturno']\n",
      "Mientras que los mas alejados, es decir, despues de Urano son\n",
      "['Neptuno', 'Pluton']\n"
     ]
    }
   ],
   "source": [
    "planetas=[\"Mercurio\",\"Venus\",\"Tierra\",\"Marte\",\"Jupiter\",\"Saturno\", \"Urano\",\"Neptuno\", \"Pluton\"]\n",
    "nombre_planeta=input(\"Por favor, ingrese el nombre d eun planeta, comenzando con mayuscula\")\n",
    "planeta_index=planetas.index(nombre_planeta)\n",
    "print(\"El planeta\", nombre_planeta, \"es el planeta numero \" ,planeta_index + 1, \"con respecto a la distancia al sol\")\n",
    "print(\"Los planetas mas cercanos al sol antes que\",nombre_planeta, \"son\")\n",
    "print(planetas[0 : planeta_index])\n",
    "print(\"Mientras que los mas alejados, es decir, despues de\", nombre_planeta, \"son\")\n",
    "print(planetas[planeta_index + 1: ])\n"
   ]
  }
 ],
 "metadata": {
  "interpreter": {
   "hash": "cf960eb46d23ddff2d972984d3ba9e94ed12ea2863506cd2d61fa5eee592ec1f"
  },
  "kernelspec": {
   "display_name": "Python 3.10.2 64-bit",
   "language": "python",
   "name": "python3"
  },
  "language_info": {
   "codemirror_mode": {
    "name": "ipython",
    "version": 3
   },
   "file_extension": ".py",
   "mimetype": "text/x-python",
   "name": "python",
   "nbconvert_exporter": "python",
   "pygments_lexer": "ipython3",
   "version": "3.10.2"
  },
  "orig_nbformat": 4
 },
 "nbformat": 4,
 "nbformat_minor": 2
}
